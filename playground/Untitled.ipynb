{
 "cells": [
  {
   "cell_type": "code",
   "execution_count": 1,
   "id": "0822a8d5-611a-40f5-8c1b-07d4411e847e",
   "metadata": {},
   "outputs": [],
   "source": [
    "CHALLENGES = [\n",
    "    \"kda\",\n",
    "    \"killParticipation\",\n",
    "    \"multikills\",\n",
    "    \"turretPlatesTaken\",\n",
    "    \"visionScoreAdvantageLaneOpponent\",\n",
    "    \"visionScorePerMinute\",\n",
    "    \"teamDamagePercentage\",\n",
    "    \"controlWardsPlaced\",\n",
    "    \"goldPerMinute\",\n",
    "]\n",
    "\n",
    "PARTICIPANT_INFO = [\n",
    "    \"assistMePings\",\n",
    "    \"dangerPings\",\n",
    "    \"onMyWayPings\",\n",
    "    \"deaths\",\n",
    "    \"kills\",\n",
    "    \"largestKillingSpree\",\n",
    "    \"pentaKills\",\n",
    "    \"quadraKills\",\n",
    "    \"tripleKills\",\n",
    "    \"totalDamageDealtToChampions\",\n",
    "    \"totalDamageTaken\",\n",
    "    \"totalHeal\",\n",
    "    \"totalHealsOnTeammates\",\n",
    "    \"totalTimeCCDealt\",\n",
    "    \"visionScore\",\n",
    "    \"wardsPlaced\",\n",
    "    \"visionWardsBoughtInGame\",\n",
    "    \"goldEarned\",\n",
    "]"
   ]
  },
  {
   "cell_type": "code",
   "execution_count": 3,
   "id": "0132a32d-1b34-4215-986e-14994143e50b",
   "metadata": {},
   "outputs": [],
   "source": [
    "tmp = CHALLENGES + PARTICIPANT_INFO"
   ]
  },
  {
   "cell_type": "code",
   "execution_count": 8,
   "id": "4679d32e-21b1-428a-be1d-206d0e9100b7",
   "metadata": {},
   "outputs": [
    {
     "name": "stdout",
     "output_type": "stream",
     "text": [
      ",  cs.avgKda / (ls.avgKda + 1e-10) AS normalizeKda\n",
      ",  cs.avgKillparticipation / (ls.avgKillparticipation + 1e-10) AS normalizeKillparticipation\n",
      ",  cs.avgMultikills / (ls.avgMultikills + 1e-10) AS normalizeMultikills\n",
      ",  cs.avgTurretplatestaken / (ls.avgTurretplatestaken + 1e-10) AS normalizeTurretplatestaken\n",
      ",  cs.avgVisionscoreadvantagelaneopponent / (ls.avgVisionscoreadvantagelaneopponent + 1e-10) AS normalizeVisionscoreadvantagelaneopponent\n",
      ",  cs.avgVisionscoreperminute / (ls.avgVisionscoreperminute + 1e-10) AS normalizeVisionscoreperminute\n",
      ",  cs.avgTeamdamagepercentage / (ls.avgTeamdamagepercentage + 1e-10) AS normalizeTeamdamagepercentage\n",
      ",  cs.avgControlwardsplaced / (ls.avgControlwardsplaced + 1e-10) AS normalizeControlwardsplaced\n",
      ",  cs.avgGoldperminute / (ls.avgGoldperminute + 1e-10) AS normalizeGoldperminute\n",
      ",  cs.avgAssistmepings / (ls.avgAssistmepings + 1e-10) AS normalizeAssistmepings\n",
      ",  cs.avgDangerpings / (ls.avgDangerpings + 1e-10) AS normalizeDangerpings\n",
      ",  cs.avgOnmywaypings / (ls.avgOnmywaypings + 1e-10) AS normalizeOnmywaypings\n",
      ",  cs.avgDeaths / (ls.avgDeaths + 1e-10) AS normalizeDeaths\n",
      ",  cs.avgKills / (ls.avgKills + 1e-10) AS normalizeKills\n",
      ",  cs.avgLargestkillingspree / (ls.avgLargestkillingspree + 1e-10) AS normalizeLargestkillingspree\n",
      ",  cs.avgPentakills / (ls.avgPentakills + 1e-10) AS normalizePentakills\n",
      ",  cs.avgQuadrakills / (ls.avgQuadrakills + 1e-10) AS normalizeQuadrakills\n",
      ",  cs.avgTriplekills / (ls.avgTriplekills + 1e-10) AS normalizeTriplekills\n",
      ",  cs.avgTotaldamagedealttochampions / (ls.avgTotaldamagedealttochampions + 1e-10) AS normalizeTotaldamagedealttochampions\n",
      ",  cs.avgTotaldamagetaken / (ls.avgTotaldamagetaken + 1e-10) AS normalizeTotaldamagetaken\n",
      ",  cs.avgTotalheal / (ls.avgTotalheal + 1e-10) AS normalizeTotalheal\n",
      ",  cs.avgTotalhealsonteammates / (ls.avgTotalhealsonteammates + 1e-10) AS normalizeTotalhealsonteammates\n",
      ",  cs.avgTotaltimeccdealt / (ls.avgTotaltimeccdealt + 1e-10) AS normalizeTotaltimeccdealt\n",
      ",  cs.avgVisionscore / (ls.avgVisionscore + 1e-10) AS normalizeVisionscore\n",
      ",  cs.avgWardsplaced / (ls.avgWardsplaced + 1e-10) AS normalizeWardsplaced\n",
      ",  cs.avgVisionwardsboughtingame / (ls.avgVisionwardsboughtingame + 1e-10) AS normalizeVisionwardsboughtingame\n",
      ",  cs.avgGoldearned / (ls.avgGoldearned + 1e-10) AS normalizeGoldearned\n"
     ]
    }
   ],
   "source": [
    "for t in tmp:\n",
    "    print(f\",  cs.avg{t.capitalize()} / (ls.avg{t.capitalize()} + 1e-10) AS normalize{t.capitalize()}\")"
   ]
  },
  {
   "cell_type": "code",
   "execution_count": null,
   "id": "e74338fa-f052-4ac2-a476-8b6b226937b0",
   "metadata": {},
   "outputs": [],
   "source": []
  },
  {
   "cell_type": "code",
   "execution_count": null,
   "id": "a563b088-f615-4c7f-a358-4a9a0fd26cc8",
   "metadata": {},
   "outputs": [],
   "source": []
  }
 ],
 "metadata": {
  "kernelspec": {
   "display_name": "Python 3 (ipykernel)",
   "language": "python",
   "name": "python3"
  },
  "language_info": {
   "codemirror_mode": {
    "name": "ipython",
    "version": 3
   },
   "file_extension": ".py",
   "mimetype": "text/x-python",
   "name": "python",
   "nbconvert_exporter": "python",
   "pygments_lexer": "ipython3",
   "version": "3.9.17"
  }
 },
 "nbformat": 4,
 "nbformat_minor": 5
}
