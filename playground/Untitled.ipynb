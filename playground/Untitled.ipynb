{
 "cells": [
  {
   "cell_type": "code",
   "execution_count": 1,
   "id": "0822a8d5-611a-40f5-8c1b-07d4411e847e",
   "metadata": {},
   "outputs": [],
   "source": [
    "CHALLENGES = [\n",
    "    \"kda\",\n",
    "    \"killParticipation\",\n",
    "    \"multikills\",\n",
    "    \"turretPlatesTaken\",\n",
    "    \"visionScoreAdvantageLaneOpponent\",\n",
    "    \"visionScorePerMinute\",\n",
    "    \"teamDamagePercentage\",\n",
    "    \"controlWardsPlaced\",\n",
    "    \"goldPerMinute\",\n",
    "]\n",
    "\n",
    "PARTICIPANT_INFO = [\n",
    "    \"assistMePings\",\n",
    "    \"dangerPings\",\n",
    "    \"onMyWayPings\",\n",
    "    \"deaths\",\n",
    "    \"kills\",\n",
    "    \"largestKillingSpree\",\n",
    "    \"pentaKills\",\n",
    "    \"quadraKills\",\n",
    "    \"tripleKills\",\n",
    "    \"totalDamageDealtToChampions\",\n",
    "    \"totalDamageTaken\",\n",
    "    \"totalHeal\",\n",
    "    \"totalHealsOnTeammates\",\n",
    "    \"totalTimeCCDealt\",\n",
    "    \"visionScore\",\n",
    "    \"wardsPlaced\",\n",
    "    \"visionWardsBoughtInGame\",\n",
    "    \"goldEarned\",\n",
    "]"
   ]
  },
  {
   "cell_type": "code",
   "execution_count": 3,
   "id": "0132a32d-1b34-4215-986e-14994143e50b",
   "metadata": {},
   "outputs": [],
   "source": [
    "tmp = CHALLENGES + PARTICIPANT_INFO"
   ]
  },
  {
   "cell_type": "code",
   "execution_count": 8,
   "id": "4679d32e-21b1-428a-be1d-206d0e9100b7",
   "metadata": {},
   "outputs": [
    {
     "name": "stdout",
     "output_type": "stream",
     "text": [
      ",  cs.avgKda / (ls.avgKda + 1e-10) AS normalizeKda\n",
      ",  cs.avgKillparticipation / (ls.avgKillparticipation + 1e-10) AS normalizeKillparticipation\n",
      ",  cs.avgMultikills / (ls.avgMultikills + 1e-10) AS normalizeMultikills\n",
      ",  cs.avgTurretplatestaken / (ls.avgTurretplatestaken + 1e-10) AS normalizeTurretplatestaken\n",
      ",  cs.avgVisionscoreadvantagelaneopponent / (ls.avgVisionscoreadvantagelaneopponent + 1e-10) AS normalizeVisionscoreadvantagelaneopponent\n",
      ",  cs.avgVisionscoreperminute / (ls.avgVisionscoreperminute + 1e-10) AS normalizeVisionscoreperminute\n",
      ",  cs.avgTeamdamagepercentage / (ls.avgTeamdamagepercentage + 1e-10) AS normalizeTeamdamagepercentage\n",
      ",  cs.avgControlwardsplaced / (ls.avgControlwardsplaced + 1e-10) AS normalizeControlwardsplaced\n",
      ",  cs.avgGoldperminute / (ls.avgGoldperminute + 1e-10) AS normalizeGoldperminute\n",
      ",  cs.avgAssistmepings / (ls.avgAssistmepings + 1e-10) AS normalizeAssistmepings\n",
      ",  cs.avgDangerpings / (ls.avgDangerpings + 1e-10) AS normalizeDangerpings\n",
      ",  cs.avgOnmywaypings / (ls.avgOnmywaypings + 1e-10) AS normalizeOnmywaypings\n",
      ",  cs.avgDeaths / (ls.avgDeaths + 1e-10) AS normalizeDeaths\n",
      ",  cs.avgKills / (ls.avgKills + 1e-10) AS normalizeKills\n",
      ",  cs.avgLargestkillingspree / (ls.avgLargestkillingspree + 1e-10) AS normalizeLargestkillingspree\n",
      ",  cs.avgPentakills / (ls.avgPentakills + 1e-10) AS normalizePentakills\n",
      ",  cs.avgQuadrakills / (ls.avgQuadrakills + 1e-10) AS normalizeQuadrakills\n",
      ",  cs.avgTriplekills / (ls.avgTriplekills + 1e-10) AS normalizeTriplekills\n",
      ",  cs.avgTotaldamagedealttochampions / (ls.avgTotaldamagedealttochampions + 1e-10) AS normalizeTotaldamagedealttochampions\n",
      ",  cs.avgTotaldamagetaken / (ls.avgTotaldamagetaken + 1e-10) AS normalizeTotaldamagetaken\n",
      ",  cs.avgTotalheal / (ls.avgTotalheal + 1e-10) AS normalizeTotalheal\n",
      ",  cs.avgTotalhealsonteammates / (ls.avgTotalhealsonteammates + 1e-10) AS normalizeTotalhealsonteammates\n",
      ",  cs.avgTotaltimeccdealt / (ls.avgTotaltimeccdealt + 1e-10) AS normalizeTotaltimeccdealt\n",
      ",  cs.avgVisionscore / (ls.avgVisionscore + 1e-10) AS normalizeVisionscore\n",
      ",  cs.avgWardsplaced / (ls.avgWardsplaced + 1e-10) AS normalizeWardsplaced\n",
      ",  cs.avgVisionwardsboughtingame / (ls.avgVisionwardsboughtingame + 1e-10) AS normalizeVisionwardsboughtingame\n",
      ",  cs.avgGoldearned / (ls.avgGoldearned + 1e-10) AS normalizeGoldearned\n"
     ]
    }
   ],
   "source": [
    "for t in tmp:\n",
    "    print(f\",  cs.avg{t.capitalize()} / (ls.avg{t.capitalize()} + 1e-10) AS normalize{t.capitalize()}\")"
   ]
  },
  {
   "cell_type": "code",
   "execution_count": null,
   "id": "e74338fa-f052-4ac2-a476-8b6b226937b0",
   "metadata": {},
   "outputs": [],
   "source": []
  },
  {
   "cell_type": "code",
   "execution_count": 4,
   "id": "a563b088-f615-4c7f-a358-4a9a0fd26cc8",
   "metadata": {},
   "outputs": [],
   "source": [
    "import pandas as pd\n",
    "import datetime as dt\n",
    "\n",
    "end_time = dt.datetime.utcnow()\n",
    "start_time = end_time - dt.timedelta(7)\n",
    "\n",
    "start_time_str = start_time.strftime(\"%Y-%m-%dT%H:%M:%S.%f\")\n",
    "end_time_str = end_time.strftime(\"%Y-%m-%dT%H:%M:%S.%f\")\n",
    "df = pd.read_gbq(\n",
    "    f\"\"\"\n",
    "SELECT\n",
    "    ARRAY(SELECT champ FROM UNNEST(blue_team) WHERE lane=\"TOP\")[SAFE_OFFSET(0)] AS blue_team_top\n",
    "  , ARRAY(SELECT champ FROM UNNEST(blue_team) WHERE lane=\"JUNGLE\")[SAFE_OFFSET(0)] AS blue_team_jg\n",
    "  , ARRAY(SELECT champ FROM UNNEST(blue_team) WHERE lane=\"MIDDLE\")[SAFE_OFFSET(0)] AS blue_team_mid\n",
    "  , ARRAY(SELECT champ FROM UNNEST(blue_team) WHERE lane=\"BOTTOM\")[SAFE_OFFSET(0)] AS blue_team_bot\n",
    "  , ARRAY(SELECT champ FROM UNNEST(blue_team) WHERE lane=\"UTILITY\")[SAFE_OFFSET(0)] AS blue_team_sup\n",
    "  , ARRAY(SELECT champ FROM UNNEST(red_team) WHERE lane=\"TOP\")[SAFE_OFFSET(0)] AS red_team_top\n",
    "  , ARRAY(SELECT champ FROM UNNEST(red_team) WHERE lane=\"JUNGLE\")[SAFE_OFFSET(0)] AS red_team_jg\n",
    "  , ARRAY(SELECT champ FROM UNNEST(red_team) WHERE lane=\"MIDDLE\")[SAFE_OFFSET(0)] AS red_team_mid\n",
    "  , ARRAY(SELECT champ FROM UNNEST(red_team) WHERE lane=\"BOTTOM\")[SAFE_OFFSET(0)] AS red_team_bot\n",
    "  , ARRAY(SELECT champ FROM UNNEST(red_team) WHERE lane=\"UTILITY\")[SAFE_OFFSET(0)] AS red_team_sup\n",
    "  , winner\n",
    "  , tier\n",
    "FROM `mlops-project-391611.datawarehouse.matches`(DATETIME('{start_time_str}'), DATETIME('{end_time_str}'))\n",
    "    \"\"\",\n",
    "    'mlops-project-391611'\n",
    ")\n"
   ]
  },
  {
   "cell_type": "code",
   "execution_count": 5,
   "id": "ac0e86d7-120c-4a1b-9a7b-bfdcc8453d55",
   "metadata": {},
   "outputs": [
    {
     "data": {
      "text/html": [
       "<div>\n",
       "<style scoped>\n",
       "    .dataframe tbody tr th:only-of-type {\n",
       "        vertical-align: middle;\n",
       "    }\n",
       "\n",
       "    .dataframe tbody tr th {\n",
       "        vertical-align: top;\n",
       "    }\n",
       "\n",
       "    .dataframe thead th {\n",
       "        text-align: right;\n",
       "    }\n",
       "</style>\n",
       "<table border=\"1\" class=\"dataframe\">\n",
       "  <thead>\n",
       "    <tr style=\"text-align: right;\">\n",
       "      <th></th>\n",
       "      <th>blue_team_top</th>\n",
       "      <th>blue_team_jg</th>\n",
       "      <th>blue_team_mid</th>\n",
       "      <th>blue_team_bot</th>\n",
       "      <th>blue_team_sup</th>\n",
       "      <th>red_team_top</th>\n",
       "      <th>red_team_jg</th>\n",
       "      <th>red_team_mid</th>\n",
       "      <th>red_team_bot</th>\n",
       "      <th>red_team_sup</th>\n",
       "      <th>winner</th>\n",
       "      <th>tier</th>\n",
       "    </tr>\n",
       "  </thead>\n",
       "  <tbody>\n",
       "    <tr>\n",
       "      <th>0</th>\n",
       "      <td>Tryndamere</td>\n",
       "      <td>Elise</td>\n",
       "      <td>Tristana</td>\n",
       "      <td>Rengar</td>\n",
       "      <td>Ivern</td>\n",
       "      <td>Rumble</td>\n",
       "      <td>Kayn</td>\n",
       "      <td>Syndra</td>\n",
       "      <td>Caitlyn</td>\n",
       "      <td>Leblanc</td>\n",
       "      <td>BLUE</td>\n",
       "      <td>GOLD</td>\n",
       "    </tr>\n",
       "    <tr>\n",
       "      <th>1</th>\n",
       "      <td>Garen</td>\n",
       "      <td>FiddleSticks</td>\n",
       "      <td>Ahri</td>\n",
       "      <td>Ashe</td>\n",
       "      <td>Pyke</td>\n",
       "      <td>Quinn</td>\n",
       "      <td>Rengar</td>\n",
       "      <td>Kaisa</td>\n",
       "      <td>Ezreal</td>\n",
       "      <td>Shen</td>\n",
       "      <td>BLUE</td>\n",
       "      <td>DIAMOND</td>\n",
       "    </tr>\n",
       "    <tr>\n",
       "      <th>2</th>\n",
       "      <td>Anivia</td>\n",
       "      <td>Viego</td>\n",
       "      <td>Talon</td>\n",
       "      <td>Kaisa</td>\n",
       "      <td>Amumu</td>\n",
       "      <td>Rumble</td>\n",
       "      <td>LeeSin</td>\n",
       "      <td>Ziggs</td>\n",
       "      <td>Khazix</td>\n",
       "      <td>Rengar</td>\n",
       "      <td>BLUE</td>\n",
       "      <td>GOLD</td>\n",
       "    </tr>\n",
       "    <tr>\n",
       "      <th>3</th>\n",
       "      <td>Irelia</td>\n",
       "      <td>JarvanIV</td>\n",
       "      <td>Xerath</td>\n",
       "      <td>Jinx</td>\n",
       "      <td>Thresh</td>\n",
       "      <td>Sett</td>\n",
       "      <td>Evelynn</td>\n",
       "      <td>Katarina</td>\n",
       "      <td>Ezreal</td>\n",
       "      <td>Kennen</td>\n",
       "      <td>BLUE</td>\n",
       "      <td>PLATINUM</td>\n",
       "    </tr>\n",
       "    <tr>\n",
       "      <th>4</th>\n",
       "      <td>Quinn</td>\n",
       "      <td>Kayn</td>\n",
       "      <td>Malzahar</td>\n",
       "      <td>Kaisa</td>\n",
       "      <td>Thresh</td>\n",
       "      <td>Mordekaiser</td>\n",
       "      <td>MasterYi</td>\n",
       "      <td>Ahri</td>\n",
       "      <td>Draven</td>\n",
       "      <td>Twitch</td>\n",
       "      <td>RED</td>\n",
       "      <td>SILVER</td>\n",
       "    </tr>\n",
       "    <tr>\n",
       "      <th>...</th>\n",
       "      <td>...</td>\n",
       "      <td>...</td>\n",
       "      <td>...</td>\n",
       "      <td>...</td>\n",
       "      <td>...</td>\n",
       "      <td>...</td>\n",
       "      <td>...</td>\n",
       "      <td>...</td>\n",
       "      <td>...</td>\n",
       "      <td>...</td>\n",
       "      <td>...</td>\n",
       "      <td>...</td>\n",
       "    </tr>\n",
       "    <tr>\n",
       "      <th>15347</th>\n",
       "      <td>Malphite</td>\n",
       "      <td>Shyvana</td>\n",
       "      <td>Viktor</td>\n",
       "      <td>Varus</td>\n",
       "      <td>Nautilus</td>\n",
       "      <td>Aatrox</td>\n",
       "      <td>Kayn</td>\n",
       "      <td>Cassiopeia</td>\n",
       "      <td>Kaisa</td>\n",
       "      <td>Heimerdinger</td>\n",
       "      <td>BLUE</td>\n",
       "      <td>PLATINUM</td>\n",
       "    </tr>\n",
       "    <tr>\n",
       "      <th>15348</th>\n",
       "      <td>Darius</td>\n",
       "      <td>Maokai</td>\n",
       "      <td>Qiyana</td>\n",
       "      <td>Teemo</td>\n",
       "      <td>Brand</td>\n",
       "      <td>Shyvana</td>\n",
       "      <td>JarvanIV</td>\n",
       "      <td>Akali</td>\n",
       "      <td>Kaisa</td>\n",
       "      <td>Heimerdinger</td>\n",
       "      <td>BLUE</td>\n",
       "      <td>GOLD</td>\n",
       "    </tr>\n",
       "    <tr>\n",
       "      <th>15349</th>\n",
       "      <td>Aatrox</td>\n",
       "      <td>Rengar</td>\n",
       "      <td>Azir</td>\n",
       "      <td>Kaisa</td>\n",
       "      <td>Swain</td>\n",
       "      <td>DrMundo</td>\n",
       "      <td>Shaco</td>\n",
       "      <td>Yasuo</td>\n",
       "      <td>Ashe</td>\n",
       "      <td>Heimerdinger</td>\n",
       "      <td>BLUE</td>\n",
       "      <td>PLATINUM</td>\n",
       "    </tr>\n",
       "    <tr>\n",
       "      <th>15350</th>\n",
       "      <td>Olaf</td>\n",
       "      <td>Khazix</td>\n",
       "      <td>Velkoz</td>\n",
       "      <td>Kaisa</td>\n",
       "      <td>Thresh</td>\n",
       "      <td>Fiora</td>\n",
       "      <td>Skarner</td>\n",
       "      <td>Fizz</td>\n",
       "      <td>Ezreal</td>\n",
       "      <td>Heimerdinger</td>\n",
       "      <td>BLUE</td>\n",
       "      <td>DIAMOND</td>\n",
       "    </tr>\n",
       "    <tr>\n",
       "      <th>15351</th>\n",
       "      <td>Ornn</td>\n",
       "      <td>LeeSin</td>\n",
       "      <td>Syndra</td>\n",
       "      <td>Caitlyn</td>\n",
       "      <td>Morgana</td>\n",
       "      <td>Pantheon</td>\n",
       "      <td>Graves</td>\n",
       "      <td>Neeko</td>\n",
       "      <td>Kaisa</td>\n",
       "      <td>Heimerdinger</td>\n",
       "      <td>RED</td>\n",
       "      <td>SILVER</td>\n",
       "    </tr>\n",
       "  </tbody>\n",
       "</table>\n",
       "<p>15352 rows × 12 columns</p>\n",
       "</div>"
      ],
      "text/plain": [
       "      blue_team_top  blue_team_jg blue_team_mid blue_team_bot blue_team_sup  \\\n",
       "0        Tryndamere         Elise      Tristana        Rengar         Ivern   \n",
       "1             Garen  FiddleSticks          Ahri          Ashe          Pyke   \n",
       "2            Anivia         Viego         Talon         Kaisa         Amumu   \n",
       "3            Irelia      JarvanIV        Xerath          Jinx        Thresh   \n",
       "4             Quinn          Kayn      Malzahar         Kaisa        Thresh   \n",
       "...             ...           ...           ...           ...           ...   \n",
       "15347      Malphite       Shyvana        Viktor         Varus      Nautilus   \n",
       "15348        Darius        Maokai        Qiyana         Teemo         Brand   \n",
       "15349        Aatrox        Rengar          Azir         Kaisa         Swain   \n",
       "15350          Olaf        Khazix        Velkoz         Kaisa        Thresh   \n",
       "15351          Ornn        LeeSin        Syndra       Caitlyn       Morgana   \n",
       "\n",
       "      red_team_top red_team_jg red_team_mid red_team_bot  red_team_sup winner  \\\n",
       "0           Rumble        Kayn       Syndra      Caitlyn       Leblanc   BLUE   \n",
       "1            Quinn      Rengar        Kaisa       Ezreal          Shen   BLUE   \n",
       "2           Rumble      LeeSin        Ziggs       Khazix        Rengar   BLUE   \n",
       "3             Sett     Evelynn     Katarina       Ezreal        Kennen   BLUE   \n",
       "4      Mordekaiser    MasterYi         Ahri       Draven        Twitch    RED   \n",
       "...            ...         ...          ...          ...           ...    ...   \n",
       "15347       Aatrox        Kayn   Cassiopeia        Kaisa  Heimerdinger   BLUE   \n",
       "15348      Shyvana    JarvanIV        Akali        Kaisa  Heimerdinger   BLUE   \n",
       "15349      DrMundo       Shaco        Yasuo         Ashe  Heimerdinger   BLUE   \n",
       "15350        Fiora     Skarner         Fizz       Ezreal  Heimerdinger   BLUE   \n",
       "15351     Pantheon      Graves        Neeko        Kaisa  Heimerdinger    RED   \n",
       "\n",
       "           tier  \n",
       "0          GOLD  \n",
       "1       DIAMOND  \n",
       "2          GOLD  \n",
       "3      PLATINUM  \n",
       "4        SILVER  \n",
       "...         ...  \n",
       "15347  PLATINUM  \n",
       "15348      GOLD  \n",
       "15349  PLATINUM  \n",
       "15350   DIAMOND  \n",
       "15351    SILVER  \n",
       "\n",
       "[15352 rows x 12 columns]"
      ]
     },
     "execution_count": 5,
     "metadata": {},
     "output_type": "execute_result"
    }
   ],
   "source": [
    "df"
   ]
  },
  {
   "cell_type": "code",
   "execution_count": 9,
   "id": "70f4fce8-c835-4d98-902d-3d20054d449a",
   "metadata": {},
   "outputs": [],
   "source": [
    "import re\n",
    "import requests\n",
    "from bs4 import BeautifulSoup\n",
    "\n",
    "req = requests.get('https://www.leagueoflegends.com/en-us/champions/')\n",
    "doc = BeautifulSoup(req.content, 'html.parser')"
   ]
  },
  {
   "cell_type": "code",
   "execution_count": 12,
   "id": "c6945575-068a-4d58-a8da-9c9c14ada5e5",
   "metadata": {},
   "outputs": [
    {
     "name": "stdout",
     "output_type": "stream",
     "text": [
      "Found the URL: /en-us/champions/aatrox/\n",
      "Found the URL: /en-us/champions/ahri/\n",
      "Found the URL: /en-us/champions/akali/\n",
      "Found the URL: /en-us/champions/akshan/\n",
      "Found the URL: /en-us/champions/alistar/\n",
      "Found the URL: /en-us/champions/amumu/\n",
      "Found the URL: /en-us/champions/anivia/\n",
      "Found the URL: /en-us/champions/annie/\n",
      "Found the URL: /en-us/champions/aphelios/\n",
      "Found the URL: /en-us/champions/ashe/\n",
      "Found the URL: /en-us/champions/aurelion-sol/\n",
      "Found the URL: /en-us/champions/azir/\n",
      "Found the URL: /en-us/champions/bard/\n",
      "Found the URL: /en-us/champions/bel-veth/\n",
      "Found the URL: /en-us/champions/blitzcrank/\n",
      "Found the URL: /en-us/champions/brand/\n",
      "Found the URL: /en-us/champions/braum/\n",
      "Found the URL: /en-us/champions/caitlyn/\n",
      "Found the URL: /en-us/champions/camille/\n",
      "Found the URL: /en-us/champions/cassiopeia/\n",
      "Found the URL: /en-us/champions/cho-gath/\n",
      "Found the URL: /en-us/champions/corki/\n",
      "Found the URL: /en-us/champions/darius/\n",
      "Found the URL: /en-us/champions/diana/\n",
      "Found the URL: /en-us/champions/dr-mundo/\n",
      "Found the URL: /en-us/champions/draven/\n",
      "Found the URL: /en-us/champions/ekko/\n",
      "Found the URL: /en-us/champions/elise/\n",
      "Found the URL: /en-us/champions/evelynn/\n",
      "Found the URL: /en-us/champions/ezreal/\n",
      "Found the URL: /en-us/champions/fiddlesticks/\n",
      "Found the URL: /en-us/champions/fiora/\n",
      "Found the URL: /en-us/champions/fizz/\n",
      "Found the URL: /en-us/champions/galio/\n",
      "Found the URL: /en-us/champions/gangplank/\n",
      "Found the URL: /en-us/champions/garen/\n",
      "Found the URL: /en-us/champions/gnar/\n",
      "Found the URL: /en-us/champions/gragas/\n",
      "Found the URL: /en-us/champions/graves/\n",
      "Found the URL: /en-us/champions/gwen/\n",
      "Found the URL: /en-us/champions/hecarim/\n",
      "Found the URL: /en-us/champions/heimerdinger/\n",
      "Found the URL: /en-us/champions/illaoi/\n",
      "Found the URL: /en-us/champions/irelia/\n",
      "Found the URL: /en-us/champions/ivern/\n",
      "Found the URL: /en-us/champions/janna/\n",
      "Found the URL: /en-us/champions/jarvan-iv/\n",
      "Found the URL: /en-us/champions/jax/\n",
      "Found the URL: /en-us/champions/jayce/\n",
      "Found the URL: /en-us/champions/jhin/\n",
      "Found the URL: /en-us/champions/jinx/\n",
      "Found the URL: /en-us/champions/k-sante/\n",
      "Found the URL: /en-us/champions/kai-sa/\n",
      "Found the URL: /en-us/champions/kalista/\n",
      "Found the URL: /en-us/champions/karma/\n",
      "Found the URL: /en-us/champions/karthus/\n",
      "Found the URL: /en-us/champions/kassadin/\n",
      "Found the URL: /en-us/champions/katarina/\n",
      "Found the URL: /en-us/champions/kayle/\n",
      "Found the URL: /en-us/champions/kayn/\n",
      "Found the URL: /en-us/champions/kennen/\n",
      "Found the URL: /en-us/champions/kha-zix/\n",
      "Found the URL: /en-us/champions/kindred/\n",
      "Found the URL: /en-us/champions/kled/\n",
      "Found the URL: /en-us/champions/kog-maw/\n",
      "Found the URL: /en-us/champions/leblanc/\n",
      "Found the URL: /en-us/champions/lee-sin/\n",
      "Found the URL: /en-us/champions/leona/\n",
      "Found the URL: /en-us/champions/lillia/\n",
      "Found the URL: /en-us/champions/lissandra/\n",
      "Found the URL: /en-us/champions/lucian/\n",
      "Found the URL: /en-us/champions/lulu/\n",
      "Found the URL: /en-us/champions/lux/\n",
      "Found the URL: /en-us/champions/malphite/\n",
      "Found the URL: /en-us/champions/malzahar/\n",
      "Found the URL: /en-us/champions/maokai/\n",
      "Found the URL: /en-us/champions/master-yi/\n",
      "Found the URL: /en-us/champions/milio/\n",
      "Found the URL: /en-us/champions/miss-fortune/\n",
      "Found the URL: /en-us/champions/mordekaiser/\n",
      "Found the URL: /en-us/champions/morgana/\n",
      "Found the URL: /en-us/champions/naafiri/\n",
      "Found the URL: /en-us/champions/nami/\n",
      "Found the URL: /en-us/champions/nasus/\n",
      "Found the URL: /en-us/champions/nautilus/\n",
      "Found the URL: /en-us/champions/neeko/\n",
      "Found the URL: /en-us/champions/nidalee/\n",
      "Found the URL: /en-us/champions/nilah/\n",
      "Found the URL: /en-us/champions/nocturne/\n",
      "Found the URL: /en-us/champions/nunu/\n",
      "Found the URL: /en-us/champions/olaf/\n",
      "Found the URL: /en-us/champions/orianna/\n",
      "Found the URL: /en-us/champions/ornn/\n",
      "Found the URL: /en-us/champions/pantheon/\n",
      "Found the URL: /en-us/champions/poppy/\n",
      "Found the URL: /en-us/champions/pyke/\n",
      "Found the URL: /en-us/champions/qiyana/\n",
      "Found the URL: /en-us/champions/quinn/\n",
      "Found the URL: /en-us/champions/rakan/\n",
      "Found the URL: /en-us/champions/rammus/\n",
      "Found the URL: /en-us/champions/rek-sai/\n",
      "Found the URL: /en-us/champions/rell/\n",
      "Found the URL: /en-us/champions/renata/\n",
      "Found the URL: /en-us/champions/renekton/\n",
      "Found the URL: /en-us/champions/rengar/\n",
      "Found the URL: /en-us/champions/riven/\n",
      "Found the URL: /en-us/champions/rumble/\n",
      "Found the URL: /en-us/champions/ryze/\n",
      "Found the URL: /en-us/champions/samira/\n",
      "Found the URL: /en-us/champions/sejuani/\n",
      "Found the URL: /en-us/champions/senna/\n",
      "Found the URL: /en-us/champions/seraphine/\n",
      "Found the URL: /en-us/champions/sett/\n",
      "Found the URL: /en-us/champions/shaco/\n",
      "Found the URL: /en-us/champions/shen/\n",
      "Found the URL: /en-us/champions/shyvana/\n",
      "Found the URL: /en-us/champions/singed/\n",
      "Found the URL: /en-us/champions/sion/\n",
      "Found the URL: /en-us/champions/sivir/\n",
      "Found the URL: /en-us/champions/skarner/\n",
      "Found the URL: /en-us/champions/sona/\n",
      "Found the URL: /en-us/champions/soraka/\n",
      "Found the URL: /en-us/champions/swain/\n",
      "Found the URL: /en-us/champions/sylas/\n",
      "Found the URL: /en-us/champions/syndra/\n",
      "Found the URL: /en-us/champions/tahm-kench/\n",
      "Found the URL: /en-us/champions/taliyah/\n",
      "Found the URL: /en-us/champions/talon/\n",
      "Found the URL: /en-us/champions/taric/\n",
      "Found the URL: /en-us/champions/teemo/\n",
      "Found the URL: /en-us/champions/thresh/\n",
      "Found the URL: /en-us/champions/tristana/\n",
      "Found the URL: /en-us/champions/trundle/\n",
      "Found the URL: /en-us/champions/tryndamere/\n",
      "Found the URL: /en-us/champions/twisted-fate/\n",
      "Found the URL: /en-us/champions/twitch/\n",
      "Found the URL: /en-us/champions/udyr/\n",
      "Found the URL: /en-us/champions/urgot/\n",
      "Found the URL: /en-us/champions/varus/\n",
      "Found the URL: /en-us/champions/vayne/\n",
      "Found the URL: /en-us/champions/veigar/\n",
      "Found the URL: /en-us/champions/vel-koz/\n",
      "Found the URL: /en-us/champions/vex/\n",
      "Found the URL: /en-us/champions/vi/\n",
      "Found the URL: /en-us/champions/viego/\n",
      "Found the URL: /en-us/champions/viktor/\n",
      "Found the URL: /en-us/champions/vladimir/\n",
      "Found the URL: /en-us/champions/volibear/\n",
      "Found the URL: /en-us/champions/warwick/\n",
      "Found the URL: /en-us/champions/wukong/\n",
      "Found the URL: /en-us/champions/xayah/\n",
      "Found the URL: /en-us/champions/xerath/\n",
      "Found the URL: /en-us/champions/xin-zhao/\n",
      "Found the URL: /en-us/champions/yasuo/\n",
      "Found the URL: /en-us/champions/yone/\n",
      "Found the URL: /en-us/champions/yorick/\n",
      "Found the URL: /en-us/champions/yuumi/\n",
      "Found the URL: /en-us/champions/zac/\n",
      "Found the URL: /en-us/champions/zed/\n",
      "Found the URL: /en-us/champions/zeri/\n",
      "Found the URL: /en-us/champions/ziggs/\n",
      "Found the URL: /en-us/champions/zilean/\n",
      "Found the URL: /en-us/champions/zoe/\n",
      "Found the URL: /en-us/champions/zyra/\n"
     ]
    }
   ],
   "source": [
    "for a in doc.find_all('a', href=True):\n",
    "    href = a['href']\n",
    "    if href.startswith('/en-us/champions/'):\n",
    "        print(\"Found the URL:\", a['href'])"
   ]
  },
  {
   "cell_type": "code",
   "execution_count": 8,
   "id": "9c3ce859-5203-4554-a0f6-e56436680bfb",
   "metadata": {},
   "outputs": [
    {
     "name": "stdout",
     "output_type": "stream",
     "text": [
      "Looking in indexes: https://pypi.org/simple, https://pypi.ngc.nvidia.com\n",
      "Requirement already satisfied: beautifulsoup4 in /home/cemmi/anaconda3/envs/mlops-project/lib/python3.9/site-packages (4.12.2)\n",
      "Requirement already satisfied: soupsieve>1.2 in /home/cemmi/anaconda3/envs/mlops-project/lib/python3.9/site-packages (from beautifulsoup4) (2.4.1)\n"
     ]
    }
   ],
   "source": [
    "!pip install beautifulsoup4"
   ]
  },
  {
   "cell_type": "code",
   "execution_count": 3,
   "id": "eea8c9a2-582b-4535-a25d-eef4df5b7420",
   "metadata": {},
   "outputs": [],
   "source": [
    "from google.cloud import bigquery\n",
    "import pandas as pd\n",
    "df = pd.read_gbq('SELECT * EXCEPT(lane) FROM `mlops-project-391611.datawarehouse.matches_test`', 'mlops-project-391611')"
   ]
  },
  {
   "cell_type": "code",
   "execution_count": 6,
   "id": "4ba493fb-e52e-4b25-9f10-5b2e00307b2c",
   "metadata": {},
   "outputs": [
    {
     "name": "stderr",
     "output_type": "stream",
     "text": [
      "/home/cemmi/anaconda3/envs/mlops-project/lib/python3.9/site-packages/google/auth/_default.py:78: UserWarning: Your application has authenticated using end user credentials from Google Cloud SDK without a quota project. You might receive a \"quota exceeded\" or \"API not enabled\" error. See the following page for troubleshooting: https://cloud.google.com/docs/authentication/adc-troubleshooting/user-creds. \n",
      "  warnings.warn(_CLOUD_SDK_CREDENTIALS_WARNING)\n"
     ]
    },
    {
     "data": {
      "text/plain": [
       "LoadJob<project=mlops-project-391611, location=europe-west1, id=434ccab3-651e-4aac-b83e-31c3b959178a>"
      ]
     },
     "execution_count": 6,
     "metadata": {},
     "output_type": "execute_result"
    }
   ],
   "source": [
    "client = bigquery.Client('mlops-project-391611')\n",
    "job_config = bigquery.LoadJobConfig(\n",
    "    write_disposition=\"WRITE_APPEND\",\n",
    "    time_partitioning=bigquery.table.TimePartitioning(\n",
    "        type_=\"DAY\", field=\"gameStartTime\"\n",
    "    ),\n",
    "    clustering_fields=[\n",
    "            \"teamPosition\",\n",
    "            \"division\",\n",
    "        ],\n",
    ")\n",
    "\n",
    "table_id = f\"datawarehouse.matches\"\n",
    "job = client.load_table_from_dataframe(\n",
    "    df, table_id, job_config=job_config\n",
    ")  # Make an API request\n",
    "job.result()  # Wait for job to finish"
   ]
  },
  {
   "cell_type": "code",
   "execution_count": null,
   "id": "4e548911-78e8-46e7-a0e3-148e9e5bd54b",
   "metadata": {},
   "outputs": [],
   "source": []
  },
  {
   "cell_type": "code",
   "execution_count": 1,
   "id": "2bea84bb-0334-41f7-80bd-511c97d5bb1f",
   "metadata": {},
   "outputs": [],
   "source": [
    "import wandb"
   ]
  },
  {
   "cell_type": "code",
   "execution_count": 38,
   "id": "5a45e65a-3613-448b-ae77-99aa1e8c763f",
   "metadata": {},
   "outputs": [
    {
     "data": {
      "text/html": [
       "Finishing last run (ID:osovjp24) before initializing another..."
      ],
      "text/plain": [
       "<IPython.core.display.HTML object>"
      ]
     },
     "metadata": {},
     "output_type": "display_data"
    },
    {
     "data": {
      "text/html": [
       "Waiting for W&B process to finish... <strong style=\"color:green\">(success).</strong>"
      ],
      "text/plain": [
       "<IPython.core.display.HTML object>"
      ]
     },
     "metadata": {},
     "output_type": "display_data"
    },
    {
     "data": {
      "text/html": [
       " View run <strong style=\"color:#cdcd00\">eager-water-1</strong> at: <a href='https://wandb.ai/hca97/LOL-Match-Outcome-playground/runs/osovjp24' target=\"_blank\">https://wandb.ai/hca97/LOL-Match-Outcome-playground/runs/osovjp24</a><br/>Synced 6 W&B file(s), 0 media file(s), 2 artifact file(s) and 0 other file(s)"
      ],
      "text/plain": [
       "<IPython.core.display.HTML object>"
      ]
     },
     "metadata": {},
     "output_type": "display_data"
    },
    {
     "data": {
      "text/html": [
       "Find logs at: <code>./wandb/run-20230724_163811-osovjp24/logs</code>"
      ],
      "text/plain": [
       "<IPython.core.display.HTML object>"
      ]
     },
     "metadata": {},
     "output_type": "display_data"
    },
    {
     "data": {
      "text/html": [
       "Successfully finished last run (ID:osovjp24). Initializing new run:<br/>"
      ],
      "text/plain": [
       "<IPython.core.display.HTML object>"
      ]
     },
     "metadata": {},
     "output_type": "display_data"
    },
    {
     "data": {
      "application/vnd.jupyter.widget-view+json": {
       "model_id": "2b17b90639a54afabad89acd799a78a9",
       "version_major": 2,
       "version_minor": 0
      },
      "text/plain": [
       "VBox(children=(Label(value='Waiting for wandb.init()...\\r'), FloatProgress(value=0.016668397399977646, max=1.0…"
      ]
     },
     "metadata": {},
     "output_type": "display_data"
    },
    {
     "data": {
      "text/html": [
       "Tracking run with wandb version 0.15.5"
      ],
      "text/plain": [
       "<IPython.core.display.HTML object>"
      ]
     },
     "metadata": {},
     "output_type": "display_data"
    },
    {
     "data": {
      "text/html": [
       "Run data is saved locally in <code>/home/cemmi/Documents/mlops-zoomcamp/project/LOL-Match-Outcome/playground/wandb/run-20230724_180504-y5iok1io</code>"
      ],
      "text/plain": [
       "<IPython.core.display.HTML object>"
      ]
     },
     "metadata": {},
     "output_type": "display_data"
    },
    {
     "data": {
      "text/html": [
       "Syncing run <strong><a href='https://wandb.ai/hca97/LOL-Match-Outcome-playground/runs/y5iok1io' target=\"_blank\">devout-firefly-2</a></strong> to <a href='https://wandb.ai/hca97/LOL-Match-Outcome-playground' target=\"_blank\">Weights & Biases</a> (<a href='https://wandb.me/run' target=\"_blank\">docs</a>)<br/>"
      ],
      "text/plain": [
       "<IPython.core.display.HTML object>"
      ]
     },
     "metadata": {},
     "output_type": "display_data"
    },
    {
     "data": {
      "text/html": [
       " View project at <a href='https://wandb.ai/hca97/LOL-Match-Outcome-playground' target=\"_blank\">https://wandb.ai/hca97/LOL-Match-Outcome-playground</a>"
      ],
      "text/plain": [
       "<IPython.core.display.HTML object>"
      ]
     },
     "metadata": {},
     "output_type": "display_data"
    },
    {
     "data": {
      "text/html": [
       " View run at <a href='https://wandb.ai/hca97/LOL-Match-Outcome-playground/runs/y5iok1io' target=\"_blank\">https://wandb.ai/hca97/LOL-Match-Outcome-playground/runs/y5iok1io</a>"
      ],
      "text/plain": [
       "<IPython.core.display.HTML object>"
      ]
     },
     "metadata": {},
     "output_type": "display_data"
    },
    {
     "name": "stderr",
     "output_type": "stream",
     "text": [
      "\u001b[34m\u001b[1mwandb\u001b[0m:   1 of 1 files downloaded.  \n"
     ]
    }
   ],
   "source": [
    "wandb.init()\n",
    "artifact = wandb.use_artifact(\"hca97/lol-match-predictor/lol-match-predictor-dataset:latest\", type=\"preprocessed_dataset\")\n",
    "data_path = artifact.download()"
   ]
  },
  {
   "cell_type": "code",
   "execution_count": 3,
   "id": "f19d3140-6315-4615-83a6-028390c3153e",
   "metadata": {},
   "outputs": [
    {
     "data": {
      "text/plain": [
       "'./artifacts/lol-match-predictor-dataset:v0'"
      ]
     },
     "execution_count": 3,
     "metadata": {},
     "output_type": "execute_result"
    }
   ],
   "source": [
    "data_path"
   ]
  },
  {
   "cell_type": "code",
   "execution_count": 4,
   "id": "837adaa1-c12d-4db1-911e-fb0436678790",
   "metadata": {},
   "outputs": [],
   "source": [
    "import pickle, os\n",
    "def load_pickle(filename: str):\n",
    "    with open(filename, \"rb\") as f_in:\n",
    "        return pickle.load(f_in)\n",
    "\n",
    "X_train, y_train, X_test, y_test = load_pickle(os.path.join(data_path, \"07-19-2023-07-24-2023.pkl\"))"
   ]
  },
  {
   "cell_type": "code",
   "execution_count": 5,
   "id": "ae8e99e9-bb62-4fff-8cdd-cd87ac869653",
   "metadata": {},
   "outputs": [],
   "source": [
    "from sklearn.ensemble import RandomForestClassifier\n"
   ]
  },
  {
   "cell_type": "code",
   "execution_count": 32,
   "id": "44d1ca04-8f19-45c9-aba6-5cffe2487c74",
   "metadata": {},
   "outputs": [
    {
     "data": {
      "text/html": [
       "<style>#sk-container-id-3 {color: black;}#sk-container-id-3 pre{padding: 0;}#sk-container-id-3 div.sk-toggleable {background-color: white;}#sk-container-id-3 label.sk-toggleable__label {cursor: pointer;display: block;width: 100%;margin-bottom: 0;padding: 0.3em;box-sizing: border-box;text-align: center;}#sk-container-id-3 label.sk-toggleable__label-arrow:before {content: \"▸\";float: left;margin-right: 0.25em;color: #696969;}#sk-container-id-3 label.sk-toggleable__label-arrow:hover:before {color: black;}#sk-container-id-3 div.sk-estimator:hover label.sk-toggleable__label-arrow:before {color: black;}#sk-container-id-3 div.sk-toggleable__content {max-height: 0;max-width: 0;overflow: hidden;text-align: left;background-color: #f0f8ff;}#sk-container-id-3 div.sk-toggleable__content pre {margin: 0.2em;color: black;border-radius: 0.25em;background-color: #f0f8ff;}#sk-container-id-3 input.sk-toggleable__control:checked~div.sk-toggleable__content {max-height: 200px;max-width: 100%;overflow: auto;}#sk-container-id-3 input.sk-toggleable__control:checked~label.sk-toggleable__label-arrow:before {content: \"▾\";}#sk-container-id-3 div.sk-estimator input.sk-toggleable__control:checked~label.sk-toggleable__label {background-color: #d4ebff;}#sk-container-id-3 div.sk-label input.sk-toggleable__control:checked~label.sk-toggleable__label {background-color: #d4ebff;}#sk-container-id-3 input.sk-hidden--visually {border: 0;clip: rect(1px 1px 1px 1px);clip: rect(1px, 1px, 1px, 1px);height: 1px;margin: -1px;overflow: hidden;padding: 0;position: absolute;width: 1px;}#sk-container-id-3 div.sk-estimator {font-family: monospace;background-color: #f0f8ff;border: 1px dotted black;border-radius: 0.25em;box-sizing: border-box;margin-bottom: 0.5em;}#sk-container-id-3 div.sk-estimator:hover {background-color: #d4ebff;}#sk-container-id-3 div.sk-parallel-item::after {content: \"\";width: 100%;border-bottom: 1px solid gray;flex-grow: 1;}#sk-container-id-3 div.sk-label:hover label.sk-toggleable__label {background-color: #d4ebff;}#sk-container-id-3 div.sk-serial::before {content: \"\";position: absolute;border-left: 1px solid gray;box-sizing: border-box;top: 0;bottom: 0;left: 50%;z-index: 0;}#sk-container-id-3 div.sk-serial {display: flex;flex-direction: column;align-items: center;background-color: white;padding-right: 0.2em;padding-left: 0.2em;position: relative;}#sk-container-id-3 div.sk-item {position: relative;z-index: 1;}#sk-container-id-3 div.sk-parallel {display: flex;align-items: stretch;justify-content: center;background-color: white;position: relative;}#sk-container-id-3 div.sk-item::before, #sk-container-id-3 div.sk-parallel-item::before {content: \"\";position: absolute;border-left: 1px solid gray;box-sizing: border-box;top: 0;bottom: 0;left: 50%;z-index: -1;}#sk-container-id-3 div.sk-parallel-item {display: flex;flex-direction: column;z-index: 1;position: relative;background-color: white;}#sk-container-id-3 div.sk-parallel-item:first-child::after {align-self: flex-end;width: 50%;}#sk-container-id-3 div.sk-parallel-item:last-child::after {align-self: flex-start;width: 50%;}#sk-container-id-3 div.sk-parallel-item:only-child::after {width: 0;}#sk-container-id-3 div.sk-dashed-wrapped {border: 1px dashed gray;margin: 0 0.4em 0.5em 0.4em;box-sizing: border-box;padding-bottom: 0.4em;background-color: white;}#sk-container-id-3 div.sk-label label {font-family: monospace;font-weight: bold;display: inline-block;line-height: 1.2em;}#sk-container-id-3 div.sk-label-container {text-align: center;}#sk-container-id-3 div.sk-container {/* jupyter's `normalize.less` sets `[hidden] { display: none; }` but bootstrap.min.css set `[hidden] { display: none !important; }` so we also need the `!important` here to be able to override the default hidden behavior on the sphinx rendered scikit-learn.org. See: https://github.com/scikit-learn/scikit-learn/issues/21755 */display: inline-block !important;position: relative;}#sk-container-id-3 div.sk-text-repr-fallback {display: none;}</style><div id=\"sk-container-id-3\" class=\"sk-top-container\"><div class=\"sk-text-repr-fallback\"><pre>RandomForestClassifier(max_depth=5, n_estimators=5, n_jobs=-1)</pre><b>In a Jupyter environment, please rerun this cell to show the HTML representation or trust the notebook. <br />On GitHub, the HTML representation is unable to render, please try loading this page with nbviewer.org.</b></div><div class=\"sk-container\" hidden><div class=\"sk-item\"><div class=\"sk-estimator sk-toggleable\"><input class=\"sk-toggleable__control sk-hidden--visually\" id=\"sk-estimator-id-3\" type=\"checkbox\" checked><label for=\"sk-estimator-id-3\" class=\"sk-toggleable__label sk-toggleable__label-arrow\">RandomForestClassifier</label><div class=\"sk-toggleable__content\"><pre>RandomForestClassifier(max_depth=5, n_estimators=5, n_jobs=-1)</pre></div></div></div></div></div>"
      ],
      "text/plain": [
       "RandomForestClassifier(max_depth=5, n_estimators=5, n_jobs=-1)"
      ]
     },
     "execution_count": 32,
     "metadata": {},
     "output_type": "execute_result"
    }
   ],
   "source": [
    "config = {\"n_jobs\": -1, \"max_depth\": 5, \"n_estimators\": 5}\n",
    "rfc = RandomForestClassifier(**config)\n",
    "rfc.fit(X_train, y_train)"
   ]
  },
  {
   "cell_type": "code",
   "execution_count": 33,
   "id": "fc6782ff-17b8-4f0e-8287-a22643646c6c",
   "metadata": {},
   "outputs": [
    {
     "data": {
      "text/plain": [
       "(1934,)"
      ]
     },
     "execution_count": 33,
     "metadata": {},
     "output_type": "execute_result"
    }
   ],
   "source": [
    "rfc.feature_importances_.shape"
   ]
  },
  {
   "cell_type": "code",
   "execution_count": 34,
   "id": "b20263cc-7140-4534-8e01-99d8d43c9bee",
   "metadata": {},
   "outputs": [
    {
     "name": "stdout",
     "output_type": "stream",
     "text": [
      "Elapsed time to compute the importances: 0.013 seconds\n"
     ]
    }
   ],
   "source": [
    "import time\n",
    "\n",
    "import numpy as np\n",
    "\n",
    "forest = rfc\n",
    "start_time = time.time()\n",
    "importances = forest.feature_importances_\n",
    "std = np.std([tree.feature_importances_ for tree in forest.estimators_], axis=0)\n",
    "elapsed_time = time.time() - start_time\n",
    "\n",
    "print(f\"Elapsed time to compute the importances: {elapsed_time:.3f} seconds\")"
   ]
  },
  {
   "cell_type": "code",
   "execution_count": 35,
   "id": "fe17f03b-8b26-412c-a20a-eed6aa291adc",
   "metadata": {},
   "outputs": [],
   "source": [
    "idx = np.argsort(importances)[::-1]"
   ]
  },
  {
   "cell_type": "code",
   "execution_count": 36,
   "id": "ad1fb9c7-4ad0-4e7f-b046-872520e3f412",
   "metadata": {},
   "outputs": [
    {
     "data": {
      "text/plain": [
       "array([1761, 1732, 1645, 1703, 1906, 1877, 1790, 1674, 1819, 1849, 1791,\n",
       "       1646, 1907, 1882, 1820, 1658, 1931, 1878, 1770, 1651])"
      ]
     },
     "execution_count": 36,
     "metadata": {},
     "output_type": "execute_result"
    }
   ],
   "source": [
    "i"
   ]
  },
  {
   "cell_type": "code",
   "execution_count": 37,
   "id": "2a5a9356-d6a3-4fa4-b125-45a746d8ffbb",
   "metadata": {},
   "outputs": [
    {
     "data": {
      "image/png": "[encoded data removed]",
      "text/plain": [
       "<Figure size 640x480 with 1 Axes>"
      ]
     },
     "metadata": {},
     "output_type": "display_data"
    }
   ],
   "source": [
    "import pandas as pd\n",
    "import matplotlib.pyplot as plt\n",
    "%matplotlib inline\n",
    "\n",
    "n = 20\n",
    "i = idx[:n]\n",
    "feature_names = [f'f_{i}' for i in range(1, n+1)]\n",
    "forest_importances = pd.Series(importances[i], index=feature_names)\n",
    "\n",
    "fig, ax = plt.subplots()\n",
    "forest_importances.plot.bar(yerr=std[i], ax=ax)\n",
    "ax.set_title(\"Feature importances using MDI\")\n",
    "ax.set_ylabel(\"Mean decrease in impurity\")\n",
    "fig.tight_layout()"
   ]
  },
  {
   "cell_type": "code",
   "execution_count": 15,
   "id": "49de81e6-1160-447e-8e68-3e6c7c9c74b8",
   "metadata": {},
   "outputs": [
    {
     "name": "stdout",
     "output_type": "stream",
     "text": [
      "Looking in indexes: https://pypi.org/simple, https://pypi.ngc.nvidia.com\n",
      "Collecting matplotlib\n",
      "  Downloading matplotlib-3.7.2-cp39-cp39-manylinux_2_17_x86_64.manylinux2014_x86_64.whl (11.6 MB)\n",
      "\u001b[2K     \u001b[38;2;114;156;31m━━━━━━━━━━━━━━━━━━━━━━━━━━━━━━━━━━━━━━━━\u001b[0m \u001b[32m11.6/11.6 MB\u001b[0m \u001b[31m11.5 MB/s\u001b[0m eta \u001b[36m0:00:00\u001b[0m[36m0:00:01\u001b[0mm eta \u001b[36m0:00:01\u001b[0m\n",
      "\u001b[?25hCollecting contourpy>=1.0.1 (from matplotlib)\n",
      "  Downloading contourpy-1.1.0-cp39-cp39-manylinux_2_17_x86_64.manylinux2014_x86_64.whl (300 kB)\n",
      "\u001b[2K     \u001b[38;2;114;156;31m━━━━━━━━━━━━━━━━━━━━━━━━━━━━━━━━━━━━━━\u001b[0m \u001b[32m300.4/300.4 kB\u001b[0m \u001b[31m11.8 MB/s\u001b[0m eta \u001b[36m0:00:00\u001b[0m\n",
      "\u001b[?25hCollecting cycler>=0.10 (from matplotlib)\n",
      "  Downloading cycler-0.11.0-py3-none-any.whl (6.4 kB)\n",
      "Collecting fonttools>=4.22.0 (from matplotlib)\n",
      "  Downloading fonttools-4.41.1-cp39-cp39-manylinux_2_17_x86_64.manylinux2014_x86_64.whl (4.5 MB)\n",
      "\u001b[2K     \u001b[38;2;114;156;31m━━━━━━━━━━━━━━━━━━━━━━━━━━━━━━━━━━━━━━━━\u001b[0m \u001b[32m4.5/4.5 MB\u001b[0m \u001b[31m11.6 MB/s\u001b[0m eta \u001b[36m0:00:00\u001b[0m[36m0:00:01\u001b[0m[36m0:00:01\u001b[0m:01\u001b[0m\n",
      "\u001b[?25hCollecting kiwisolver>=1.0.1 (from matplotlib)\n",
      "  Downloading kiwisolver-1.4.4-cp39-cp39-manylinux_2_12_x86_64.manylinux2010_x86_64.whl (1.6 MB)\n",
      "\u001b[2K     \u001b[38;2;114;156;31m━━━━━━━━━━━━━━━━━━━━━━━━━━━━━━━━━━━━━━━━\u001b[0m \u001b[32m1.6/1.6 MB\u001b[0m \u001b[31m11.5 MB/s\u001b[0m eta \u001b[36m0:00:00\u001b[0mm eta \u001b[36m0:00:01\u001b[0m[36m0:00:01\u001b[0m\n",
      "\u001b[?25hRequirement already satisfied: numpy>=1.20 in /home/cemmi/anaconda3/envs/mlops-project/lib/python3.9/site-packages (from matplotlib) (1.25.1)\n",
      "Requirement already satisfied: packaging>=20.0 in /home/cemmi/anaconda3/envs/mlops-project/lib/python3.9/site-packages (from matplotlib) (23.1)\n",
      "Collecting pillow>=6.2.0 (from matplotlib)\n",
      "  Downloading Pillow-10.0.0-cp39-cp39-manylinux_2_28_x86_64.whl (3.4 MB)\n",
      "\u001b[2K     \u001b[38;2;114;156;31m━━━━━━━━━━━━━━━━━━━━━━━━━━━━━━━━━━━━━━━━\u001b[0m \u001b[32m3.4/3.4 MB\u001b[0m \u001b[31m11.6 MB/s\u001b[0m eta \u001b[36m0:00:00\u001b[0m MB/s\u001b[0m eta \u001b[36m0:00:01\u001b[0m:01\u001b[0m\n",
      "\u001b[?25hCollecting pyparsing<3.1,>=2.3.1 (from matplotlib)\n",
      "  Downloading pyparsing-3.0.9-py3-none-any.whl (98 kB)\n",
      "\u001b[2K     \u001b[38;2;114;156;31m━━━━━━━━━━━━━━━━━━━━━━━━━━━━━━━━━━━━━━━━\u001b[0m \u001b[32m98.3/98.3 kB\u001b[0m \u001b[31m14.9 MB/s\u001b[0m eta \u001b[36m0:00:00\u001b[0m\n",
      "\u001b[?25hRequirement already satisfied: python-dateutil>=2.7 in /home/cemmi/anaconda3/envs/mlops-project/lib/python3.9/site-packages (from matplotlib) (2.8.2)\n",
      "Collecting importlib-resources>=3.2.0 (from matplotlib)\n",
      "  Downloading importlib_resources-6.0.0-py3-none-any.whl (31 kB)\n",
      "Requirement already satisfied: zipp>=3.1.0 in /home/cemmi/anaconda3/envs/mlops-project/lib/python3.9/site-packages (from importlib-resources>=3.2.0->matplotlib) (3.16.2)\n",
      "Requirement already satisfied: six>=1.5 in /home/cemmi/anaconda3/envs/mlops-project/lib/python3.9/site-packages (from python-dateutil>=2.7->matplotlib) (1.16.0)\n",
      "Installing collected packages: pyparsing, pillow, kiwisolver, importlib-resources, fonttools, cycler, contourpy, matplotlib\n",
      "  Attempting uninstall: pyparsing\n",
      "    Found existing installation: pyparsing 3.1.0\n",
      "    Uninstalling pyparsing-3.1.0:\n",
      "      Successfully uninstalled pyparsing-3.1.0\n",
      "Successfully installed contourpy-1.1.0 cycler-0.11.0 fonttools-4.41.1 importlib-resources-6.0.0 kiwisolver-1.4.4 matplotlib-3.7.2 pillow-10.0.0 pyparsing-3.0.9\n",
      "Note: you may need to restart the kernel to use updated packages.\n"
     ]
    }
   ],
   "source": [
    "pip install matplotlib"
   ]
  },
  {
   "cell_type": "code",
   "execution_count": null,
   "id": "3b80e544-01c2-4bc6-ae7c-dc8880bce935",
   "metadata": {},
   "outputs": [],
   "source": []
  }
 ],
 "metadata": {
  "kernelspec": {
   "display_name": "Python 3 (ipykernel)",
   "language": "python",
   "name": "python3"
  },
  "language_info": {
   "codemirror_mode": {
    "name": "ipython",
    "version": 3
   },
   "file_extension": ".py",
   "mimetype": "text/x-python",
   "name": "python",
   "nbconvert_exporter": "python",
   "pygments_lexer": "ipython3",
   "version": "3.9.17"
  }
 },
 "nbformat": 4,
 "nbformat_minor": 5
}
